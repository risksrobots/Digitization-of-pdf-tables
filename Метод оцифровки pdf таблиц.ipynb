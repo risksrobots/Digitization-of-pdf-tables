{
 "cells": [
  {
   "cell_type": "markdown",
   "id": "1b9780af",
   "metadata": {},
   "source": [
    "##  Метод оцифровки pdf таблиц"
   ]
  },
  {
   "cell_type": "markdown",
   "id": "48664aa3",
   "metadata": {},
   "source": [
    "###### Импорт модулей и библиотек"
   ]
  },
  {
   "cell_type": "code",
   "execution_count": 54,
   "id": "34cfe3bc",
   "metadata": {},
   "outputs": [],
   "source": [
    "import tabula\n",
    "import pandas as pd\n",
    "import numpy as np"
   ]
  },
  {
   "cell_type": "markdown",
   "id": "94beecfb",
   "metadata": {},
   "source": [
    "###### Производим оцифровку таблиц"
   ]
  },
  {
   "cell_type": "code",
   "execution_count": 55,
   "id": "0a4c23b4",
   "metadata": {},
   "outputs": [],
   "source": [
    "# Функция находит строки без цифр, то есть шапку и возращает индекс последней строки шапки\n",
    "def get_slice_header_index(df):\n",
    "    \n",
    "    for i, row in df.iterrows():\n",
    "        list_val = list(map(str, row.dropna().values.tolist()))\n",
    "\n",
    "        last_val = list_val[-1]\n",
    "        if ' ' in last_val:\n",
    "            last_val = last_val.split(' ')[-1]\n",
    "        line_val = ' '.join(list_val)\n",
    "        try:\n",
    "            last_val = int(last_val)\n",
    "            list_val_correct = list(map(int, line_val.split(' ')))\n",
    "        except ValueError:\n",
    "            continue\n",
    "\n",
    "        if list_val_correct == list(range(1, last_val+1)):\n",
    "            row_to_slice = i\n",
    "            return row_to_slice"
   ]
  },
  {
   "cell_type": "code",
   "execution_count": 56,
   "id": "2f09c3dc",
   "metadata": {},
   "outputs": [],
   "source": [
    "# Функция обрезает датафрейм по годам и возвращает список датафреймов для обработки\n",
    "def df_with_year(df):\n",
    "    \n",
    "    l = []\n",
    "    df_lst = []\n",
    "    slc = get_slice_header_index(df) #передаем индекс для слайса\n",
    "    df = df[slc:] #формируем датафрейм без шапки\n",
    "    for i in list(df.iloc[:,0]): #ищем строки с обозначением года\n",
    "        if '20' in i:\n",
    "            l.append(df.loc[df.iloc[:,0] == i].index.tolist())\n",
    "    if len(l) == 2: #для строки с годом выполняем распаковку сформированного списка\n",
    "        l = [*l[0], *l[1]]\n",
    "        df_lst.append(df[(l[0]-slc):(l[1]-slc)]) #добавляем в список датафреймов обрезанный датафрейм по году\n",
    "        df_lst.append(df[l[1]-slc:])\n",
    "    else:\n",
    "        l = [*l[0]]\n",
    "        df_lst.append(df[(l[0]-slc):])\n",
    "    return df_lst"
   ]
  },
  {
   "cell_type": "code",
   "execution_count": 57,
   "id": "245a38c0",
   "metadata": {},
   "outputs": [],
   "source": [
    "# Функция добавляет в датафрейм столбец с месяцем и годом\n",
    "def create_df(df_year):\n",
    "    year = df_year.iat[0,0][:-4] #находим значение года\n",
    "    d = {}\n",
    "    new_value = []\n",
    "    date = []\n",
    "    df_year = df_year[1:]\n",
    "    for i in range(len(df_year)):\n",
    "        values = []\n",
    "        for k in range(len(df_year.columns)):\n",
    "            values.append(df_year.iloc[i][k])\n",
    "            d[i] = values\n",
    "    for i in range(len(d)):\n",
    "        for el in d[i]:\n",
    "            new_value.append(el.split())\n",
    "        d[i]=new_value\n",
    "        new_value = []\n",
    "    for key in d.keys():\n",
    "        d[key] = [x for l in d[key] for x in l]\n",
    "    df = pd.DataFrame(d).T\n",
    "    for i in df[0]:\n",
    "        date.append(i+' '+year) \n",
    "    df[0] = date\n",
    "    df_year = df\n",
    "    return(df_year)"
   ]
  },
  {
   "cell_type": "code",
   "execution_count": 58,
   "id": "23fd7142",
   "metadata": {},
   "outputs": [],
   "source": [
    "# Функция выполняет оцифровку таблиц пдф и создает эксель таблицу\n",
    "def result_table(pages):\n",
    "    mytable = tabula.read_pdf(path_to_file, pages = pages) \n",
    "    dfs = []\n",
    "    for table in mytable:\n",
    "        df = pd.DataFrame(table)\n",
    "        for i in df_with_year(df):\n",
    "            dfs.append(create_df(i))\n",
    "    res = pd.concat(dfs)\n",
    "    res.replace(r'—', np.nan, regex=True, inplace=True)\n",
    "    res.replace(r',', '.', regex=True, inplace=True)\n",
    "    for column in res:\n",
    "        if column != 0:\n",
    "            res[column] = res[column].astype(float)\n",
    "    res.to_excel(f'./Таблицы/{table_name}')"
   ]
  },
  {
   "cell_type": "code",
   "execution_count": 59,
   "id": "126b9d5c",
   "metadata": {},
   "outputs": [],
   "source": [
    "def main(pages_to_convert):\n",
    "    \n",
    "    for pages in pages_to_convert:\n",
    "        table_name = 'table on page(s) ' # Формируем название файла\n",
    "        if type(pages) == list:\n",
    "            table_name += '-'.join([str(page) for page in pages]) + '.xlsx'\n",
    "        else:\n",
    "            table_name += str(pages)\n",
    "        table_name\n",
    "        \n",
    "        result_table(pages) \n",
    "        print(f'{table_name} сформирована')"
   ]
  },
  {
   "cell_type": "code",
   "execution_count": 60,
   "id": "2fa49e56",
   "metadata": {},
   "outputs": [
    {
     "name": "stdout",
     "output_type": "stream",
     "text": [
      "table on page(s) 79 сформирована\n",
      "table on page(s) 127-128.xlsx сформирована\n",
      "table on page(s) 129-130.xlsx сформирована\n"
     ]
    }
   ],
   "source": [
    "pages_to_convert = [79, [127,128], [129,130]] # Выбираем необходимые страницы\n",
    "path_to_file = './Исходный файл/Bbs2110r.pdf' # Прописываем путь к файлу\n",
    "main(pages_to_convert)"
   ]
  }
 ],
 "metadata": {
  "kernelspec": {
   "display_name": "Python 3",
   "language": "python",
   "name": "python3"
  },
  "language_info": {
   "codemirror_mode": {
    "name": "ipython",
    "version": 3
   },
   "file_extension": ".py",
   "mimetype": "text/x-python",
   "name": "python",
   "nbconvert_exporter": "python",
   "pygments_lexer": "ipython3",
   "version": "3.8.5"
  }
 },
 "nbformat": 4,
 "nbformat_minor": 5
}
